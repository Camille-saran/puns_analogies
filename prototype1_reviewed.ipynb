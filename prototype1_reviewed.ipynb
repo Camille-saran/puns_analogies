{
  "nbformat": 4,
  "nbformat_minor": 0,
  "metadata": {
    "colab": {
      "provenance": [],
      "collapsed_sections": [],
      "include_colab_link": true
    },
    "kernelspec": {
      "name": "python3",
      "display_name": "Python 3"
    },
    "language_info": {
      "name": "python"
    }
  },
  "cells": [
    {
      "cell_type": "markdown",
      "metadata": {
        "id": "view-in-github",
        "colab_type": "text"
      },
      "source": [
        "<a href=\"https://colab.research.google.com/github/Camille-saran/puns_analogies/blob/main/prototype1_reviewed.ipynb\" target=\"_parent\"><img src=\"https://colab.research.google.com/assets/colab-badge.svg\" alt=\"Open In Colab\"/></a>"
      ]
    },
    {
      "cell_type": "code",
      "source": [
        "from nltk.corpus import words\n",
        "import nltk\n",
        "nltk.download('words')"
      ],
      "metadata": {
        "id": "FZTjC6AbSEUi",
        "colab": {
          "base_uri": "https://localhost:8080/"
        },
        "outputId": "0fc8d74a-4b18-4ab8-c403-2762cc66a023"
      },
      "execution_count": 89,
      "outputs": [
        {
          "output_type": "stream",
          "name": "stderr",
          "text": [
            "[nltk_data] Downloading package words to /root/nltk_data...\n",
            "[nltk_data]   Package words is already up-to-date!\n"
          ]
        },
        {
          "output_type": "execute_result",
          "data": {
            "text/plain": [
              "True"
            ]
          },
          "metadata": {},
          "execution_count": 89
        }
      ]
    },
    {
      "cell_type": "code",
      "execution_count": 90,
      "metadata": {
        "id": "NJQtp5IsBCUS"
      },
      "outputs": [],
      "source": [
        "def tokenizer(word):\n",
        "    tokens = []\n",
        "    f = []\n",
        "    i = 1\n",
        "    j = 1\n",
        "    for i in range(len(word)):\n",
        "        for j in range(len(word)):\n",
        "            wordmix = word[j:]\n",
        "            tokens.append(wordmix[:i])\n",
        "    tokens = list(set(tokens))\n",
        "\n",
        "    for t in tokens:\n",
        "      if len(t) >= 2:\n",
        "        f.append(t)\n",
        "\n",
        "    return f\n"
      ]
    },
    {
      "cell_type": "code",
      "source": [
        "def word_in_english(sub_words):\n",
        "  list_ = []\n",
        "  for x,y in enumerate(sub_words):\n",
        "    if y in words.words():\n",
        "      list_.append(y)\n",
        "  return list_"
      ],
      "metadata": {
        "id": "vKzwy_X3Rc0i"
      },
      "execution_count": 91,
      "outputs": []
    },
    {
      "cell_type": "code",
      "source": [
        "import nltk\n",
        "import pandas as pd\n",
        "nltk.download('wordnet')\n",
        "from nltk.corpus import wordnet as wn\n",
        "nltk.download('omw-1.4')"
      ],
      "metadata": {
        "colab": {
          "base_uri": "https://localhost:8080/"
        },
        "id": "24eQy3yTSPD5",
        "outputId": "2bb5e97c-df27-4631-bcac-03f6bb8abf8a"
      },
      "execution_count": 92,
      "outputs": [
        {
          "output_type": "stream",
          "name": "stderr",
          "text": [
            "[nltk_data] Downloading package wordnet to /root/nltk_data...\n",
            "[nltk_data]   Package wordnet is already up-to-date!\n",
            "[nltk_data] Downloading package omw-1.4 to /root/nltk_data...\n",
            "[nltk_data]   Package omw-1.4 is already up-to-date!\n"
          ]
        },
        {
          "output_type": "execute_result",
          "data": {
            "text/plain": [
              "True"
            ]
          },
          "metadata": {},
          "execution_count": 92
        }
      ]
    },
    {
      "cell_type": "code",
      "source": [
        "def remPlacement(mot,submot,newmot): \n",
        "    mot = mot.replace(submot, newmot)\n",
        "    return mot"
      ],
      "metadata": {
        "id": "8FL8hlvlSuNG"
      },
      "execution_count": 93,
      "outputs": []
    },
    {
      "cell_type": "code",
      "source": [
        "def substract(a, b):                              \n",
        "    return \"\".join(a.rsplit(b))"
      ],
      "metadata": {
        "id": "HxVLwTe6TgHM"
      },
      "execution_count": 94,
      "outputs": []
    },
    {
      "cell_type": "code",
      "source": [
        "def is_str(obj):\n",
        "  if type(obj)==str:\n",
        "    return True"
      ],
      "metadata": {
        "id": "oOQ7XLZijIE6"
      },
      "execution_count": 95,
      "outputs": []
    },
    {
      "cell_type": "code",
      "source": [
        "def exist(df, index, cat):\n",
        "  item = df.iloc[index][cat]\n",
        "  if is_str(item):\n",
        "    return item"
      ],
      "metadata": {
        "id": "fz93Io3x8u_b"
      },
      "execution_count": 96,
      "outputs": []
    },
    {
      "cell_type": "code",
      "source": [
        "def construct_df(sub_words):\n",
        "  df = pd.DataFrame(columns=['word','syn','ant','hyper','hypo'])\n",
        "  df['word']=sub_words\n",
        "  for x, y in enumerate(sub_words):\n",
        "      for synset in wn.synsets(y):\n",
        "          ant_ = []\n",
        "          syn_= []\n",
        "          for l in synset.lemmas():\n",
        "              syn_.append(l.name())\n",
        "              if l.antonyms():\n",
        "                  ant_.append(l.antonyms()[0].name())\n",
        "      try:\n",
        "        My_sysn = wn.synsets(y)[0] \n",
        "        hyper_ = [x.lemma_names() for x in My_sysn.hypernyms()]\n",
        "        hypo_ = [x.lemma_names() for x in My_sysn.hyponyms()]\n",
        "      except:\n",
        "        continue\n",
        "      syn_ = [item for item in syn_ ]#if item != y]\n",
        "      try:\n",
        "        df.iloc[x]['hypo']=hypo_[0][0]\n",
        "        df.iloc[x]['hyper']=hyper_[0][0]\n",
        "        if syn_[0]==y:\n",
        "          df.iloc[x]['syn']=syn_[1]\n",
        "        else:\n",
        "          df.iloc[x]['syn']=syn_[0]\n",
        "        df.iloc[x]['ant']=ant_[0]\n",
        "      except IndexError:\n",
        "        continue\n",
        "  return df"
      ],
      "metadata": {
        "id": "KrgcBdosTr6P"
      },
      "execution_count": 97,
      "outputs": []
    },
    {
      "cell_type": "code",
      "source": [
        "def punalogy(semantic_link, index, cat, sub_words, word, df):\n",
        "    a  = sub_words[index]\n",
        "    b = word.replace(\" \", \"_\")\n",
        "    c = df.iloc[index][cat]#.replace(\"_\", \" \")\n",
        "    #if type(c)==list:\n",
        "      #c=str(c[0]).replace(\"_\", \" \")\n",
        "    d = remPlacement(b,a,c.replace(\"_\", \" \"))\n",
        "    analogy = str(a) +' is to ' + str(b) + ' as '+ str(c).replace(\"_\", \" \") + ' is to '+ str(d)\n",
        "    return analogy"
      ],
      "metadata": {
        "id": "W4EAJ5IY_mJm"
      },
      "execution_count": 98,
      "outputs": []
    },
    {
      "cell_type": "code",
      "source": [
        "def get_punalogy(word):\n",
        "  subwords = word_in_english(tokenizer(word))\n",
        "  df = construct_df(subwords)\n",
        "  analogies = get_word2(df, subwords, word)\n",
        "  if not analogies:\n",
        "    return \"no analogy is possible\", None\n",
        "  else:\n",
        "    return analogies, df"
      ],
      "metadata": {
        "id": "JsNu6sXP_F8N"
      },
      "execution_count": 111,
      "outputs": []
    },
    {
      "cell_type": "code",
      "source": [
        "def get_word(df, subwords, word):\n",
        "  cat_list =['syn','ant','hyper','hypo']\n",
        "  analogies = []\n",
        "  for index, sub in enumerate(subwords):\n",
        "    for i, cat in enumerate(cat_list):\n",
        "      semantic_link = exist(df, index, cat)\n",
        "      if is_str(semantic_link):\n",
        "        analogy = punalogy(semantic_link, index, cat, subwords, word, df)\n",
        "        analogies.append(analogy)\n",
        "      else:\n",
        "        continue\n",
        "  return analogies"
      ],
      "metadata": {
        "id": "0krzz6uFcGIf"
      },
      "execution_count": 100,
      "outputs": []
    },
    {
      "cell_type": "code",
      "source": [
        "word = \"sunglass\"\n",
        "analogy,df = get_punalogy(word)\n",
        "print('\\nanalogies=', analogy)"
      ],
      "metadata": {
        "id": "0ZZy8ahKYmjZ",
        "colab": {
          "base_uri": "https://localhost:8080/"
        },
        "outputId": "0a195e44-8cdb-4c28-ce20-ea8e4a433573"
      },
      "execution_count": 145,
      "outputs": [
        {
          "output_type": "stream",
          "name": "stdout",
          "text": [
            "\n",
            "analogies= ['glass is to sunglass as glaze is to sunglaze', 'glass is to sunglass as solid is to sunsolid', 'glass is to sunglass as crown glass is to suncrown glass', 'lass is to sunglass as lassie is to sunglassie', 'lass is to sunglass as girl is to sunggirl', 'lass is to sunglass as bobbysoxer is to sungbobbysoxer']\n"
          ]
        }
      ]
    },
    {
      "cell_type": "code",
      "source": [
        "df"
      ],
      "metadata": {
        "colab": {
          "base_uri": "https://localhost:8080/",
          "height": 332
        },
        "id": "kbD-aQKs0nLy",
        "outputId": "cdd930b5-8840-445f-bd51-28b892fc95a7"
      },
      "execution_count": 146,
      "outputs": [
        {
          "output_type": "execute_result",
          "data": {
            "text/plain": [
              "    word     syn  ant  hyper         hypo\n",
              "0    sun     NaN  NaN    NaN          NaN\n",
              "1     as     NaN  NaN    NaN          NaN\n",
              "2    ass     NaN  NaN    NaN          NaN\n",
              "3     la     NaN  NaN    NaN          NaN\n",
              "4  glass   glaze  NaN  solid  crown_glass\n",
              "5    las     NaN  NaN    NaN          NaN\n",
              "6   lass  lassie  NaN   girl   bobbysoxer\n",
              "7     un     NaN  NaN    NaN          NaN\n",
              "8   sung     NaN  NaN    NaN          NaN"
            ],
            "text/html": [
              "\n",
              "  <div id=\"df-ec07f5ea-876b-4cc5-8060-9cd4fdf0b637\">\n",
              "    <div class=\"colab-df-container\">\n",
              "      <div>\n",
              "<style scoped>\n",
              "    .dataframe tbody tr th:only-of-type {\n",
              "        vertical-align: middle;\n",
              "    }\n",
              "\n",
              "    .dataframe tbody tr th {\n",
              "        vertical-align: top;\n",
              "    }\n",
              "\n",
              "    .dataframe thead th {\n",
              "        text-align: right;\n",
              "    }\n",
              "</style>\n",
              "<table border=\"1\" class=\"dataframe\">\n",
              "  <thead>\n",
              "    <tr style=\"text-align: right;\">\n",
              "      <th></th>\n",
              "      <th>word</th>\n",
              "      <th>syn</th>\n",
              "      <th>ant</th>\n",
              "      <th>hyper</th>\n",
              "      <th>hypo</th>\n",
              "    </tr>\n",
              "  </thead>\n",
              "  <tbody>\n",
              "    <tr>\n",
              "      <th>0</th>\n",
              "      <td>sun</td>\n",
              "      <td>NaN</td>\n",
              "      <td>NaN</td>\n",
              "      <td>NaN</td>\n",
              "      <td>NaN</td>\n",
              "    </tr>\n",
              "    <tr>\n",
              "      <th>1</th>\n",
              "      <td>as</td>\n",
              "      <td>NaN</td>\n",
              "      <td>NaN</td>\n",
              "      <td>NaN</td>\n",
              "      <td>NaN</td>\n",
              "    </tr>\n",
              "    <tr>\n",
              "      <th>2</th>\n",
              "      <td>ass</td>\n",
              "      <td>NaN</td>\n",
              "      <td>NaN</td>\n",
              "      <td>NaN</td>\n",
              "      <td>NaN</td>\n",
              "    </tr>\n",
              "    <tr>\n",
              "      <th>3</th>\n",
              "      <td>la</td>\n",
              "      <td>NaN</td>\n",
              "      <td>NaN</td>\n",
              "      <td>NaN</td>\n",
              "      <td>NaN</td>\n",
              "    </tr>\n",
              "    <tr>\n",
              "      <th>4</th>\n",
              "      <td>glass</td>\n",
              "      <td>glaze</td>\n",
              "      <td>NaN</td>\n",
              "      <td>solid</td>\n",
              "      <td>crown_glass</td>\n",
              "    </tr>\n",
              "    <tr>\n",
              "      <th>5</th>\n",
              "      <td>las</td>\n",
              "      <td>NaN</td>\n",
              "      <td>NaN</td>\n",
              "      <td>NaN</td>\n",
              "      <td>NaN</td>\n",
              "    </tr>\n",
              "    <tr>\n",
              "      <th>6</th>\n",
              "      <td>lass</td>\n",
              "      <td>lassie</td>\n",
              "      <td>NaN</td>\n",
              "      <td>girl</td>\n",
              "      <td>bobbysoxer</td>\n",
              "    </tr>\n",
              "    <tr>\n",
              "      <th>7</th>\n",
              "      <td>un</td>\n",
              "      <td>NaN</td>\n",
              "      <td>NaN</td>\n",
              "      <td>NaN</td>\n",
              "      <td>NaN</td>\n",
              "    </tr>\n",
              "    <tr>\n",
              "      <th>8</th>\n",
              "      <td>sung</td>\n",
              "      <td>NaN</td>\n",
              "      <td>NaN</td>\n",
              "      <td>NaN</td>\n",
              "      <td>NaN</td>\n",
              "    </tr>\n",
              "  </tbody>\n",
              "</table>\n",
              "</div>\n",
              "      <button class=\"colab-df-convert\" onclick=\"convertToInteractive('df-ec07f5ea-876b-4cc5-8060-9cd4fdf0b637')\"\n",
              "              title=\"Convert this dataframe to an interactive table.\"\n",
              "              style=\"display:none;\">\n",
              "        \n",
              "  <svg xmlns=\"http://www.w3.org/2000/svg\" height=\"24px\"viewBox=\"0 0 24 24\"\n",
              "       width=\"24px\">\n",
              "    <path d=\"M0 0h24v24H0V0z\" fill=\"none\"/>\n",
              "    <path d=\"M18.56 5.44l.94 2.06.94-2.06 2.06-.94-2.06-.94-.94-2.06-.94 2.06-2.06.94zm-11 1L8.5 8.5l.94-2.06 2.06-.94-2.06-.94L8.5 2.5l-.94 2.06-2.06.94zm10 10l.94 2.06.94-2.06 2.06-.94-2.06-.94-.94-2.06-.94 2.06-2.06.94z\"/><path d=\"M17.41 7.96l-1.37-1.37c-.4-.4-.92-.59-1.43-.59-.52 0-1.04.2-1.43.59L10.3 9.45l-7.72 7.72c-.78.78-.78 2.05 0 2.83L4 21.41c.39.39.9.59 1.41.59.51 0 1.02-.2 1.41-.59l7.78-7.78 2.81-2.81c.8-.78.8-2.07 0-2.86zM5.41 20L4 18.59l7.72-7.72 1.47 1.35L5.41 20z\"/>\n",
              "  </svg>\n",
              "      </button>\n",
              "      \n",
              "  <style>\n",
              "    .colab-df-container {\n",
              "      display:flex;\n",
              "      flex-wrap:wrap;\n",
              "      gap: 12px;\n",
              "    }\n",
              "\n",
              "    .colab-df-convert {\n",
              "      background-color: #E8F0FE;\n",
              "      border: none;\n",
              "      border-radius: 50%;\n",
              "      cursor: pointer;\n",
              "      display: none;\n",
              "      fill: #1967D2;\n",
              "      height: 32px;\n",
              "      padding: 0 0 0 0;\n",
              "      width: 32px;\n",
              "    }\n",
              "\n",
              "    .colab-df-convert:hover {\n",
              "      background-color: #E2EBFA;\n",
              "      box-shadow: 0px 1px 2px rgba(60, 64, 67, 0.3), 0px 1px 3px 1px rgba(60, 64, 67, 0.15);\n",
              "      fill: #174EA6;\n",
              "    }\n",
              "\n",
              "    [theme=dark] .colab-df-convert {\n",
              "      background-color: #3B4455;\n",
              "      fill: #D2E3FC;\n",
              "    }\n",
              "\n",
              "    [theme=dark] .colab-df-convert:hover {\n",
              "      background-color: #434B5C;\n",
              "      box-shadow: 0px 1px 3px 1px rgba(0, 0, 0, 0.15);\n",
              "      filter: drop-shadow(0px 1px 2px rgba(0, 0, 0, 0.3));\n",
              "      fill: #FFFFFF;\n",
              "    }\n",
              "  </style>\n",
              "\n",
              "      <script>\n",
              "        const buttonEl =\n",
              "          document.querySelector('#df-ec07f5ea-876b-4cc5-8060-9cd4fdf0b637 button.colab-df-convert');\n",
              "        buttonEl.style.display =\n",
              "          google.colab.kernel.accessAllowed ? 'block' : 'none';\n",
              "\n",
              "        async function convertToInteractive(key) {\n",
              "          const element = document.querySelector('#df-ec07f5ea-876b-4cc5-8060-9cd4fdf0b637');\n",
              "          const dataTable =\n",
              "            await google.colab.kernel.invokeFunction('convertToInteractive',\n",
              "                                                     [key], {});\n",
              "          if (!dataTable) return;\n",
              "\n",
              "          const docLinkHtml = 'Like what you see? Visit the ' +\n",
              "            '<a target=\"_blank\" href=https://colab.research.google.com/notebooks/data_table.ipynb>data table notebook</a>'\n",
              "            + ' to learn more about interactive tables.';\n",
              "          element.innerHTML = '';\n",
              "          dataTable['output_type'] = 'display_data';\n",
              "          await google.colab.output.renderOutput(dataTable, element);\n",
              "          const docLink = document.createElement('div');\n",
              "          docLink.innerHTML = docLinkHtml;\n",
              "          element.appendChild(docLink);\n",
              "        }\n",
              "      </script>\n",
              "    </div>\n",
              "  </div>\n",
              "  "
            ]
          },
          "metadata": {},
          "execution_count": 146
        }
      ]
    }
  ]
}