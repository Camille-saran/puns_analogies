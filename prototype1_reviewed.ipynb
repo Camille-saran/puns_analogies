{
  "nbformat": 4,
  "nbformat_minor": 0,
  "metadata": {
    "colab": {
      "provenance": [],
      "collapsed_sections": [],
      "include_colab_link": true
    },
    "kernelspec": {
      "name": "python3",
      "display_name": "Python 3"
    },
    "language_info": {
      "name": "python"
    }
  },
  "cells": [
    {
      "cell_type": "markdown",
      "metadata": {
        "id": "view-in-github",
        "colab_type": "text"
      },
      "source": [
        "<a href=\"https://colab.research.google.com/github/Camille-saran/puns_analogies/blob/main/prototype1_reviewed.ipynb\" target=\"_parent\"><img src=\"https://colab.research.google.com/assets/colab-badge.svg\" alt=\"Open In Colab\"/></a>"
      ]
    },
    {
      "cell_type": "code",
      "source": [
        "from nltk.corpus import words\n",
        "import nltk\n",
        "nltk.download('words')"
      ],
      "metadata": {
        "id": "FZTjC6AbSEUi",
        "colab": {
          "base_uri": "https://localhost:8080/"
        },
        "outputId": "fdf2baaf-9498-4165-9930-7dcd9f3fbebe"
      },
      "execution_count": 221,
      "outputs": [
        {
          "output_type": "stream",
          "name": "stderr",
          "text": [
            "[nltk_data] Downloading package words to /root/nltk_data...\n",
            "[nltk_data]   Package words is already up-to-date!\n"
          ]
        },
        {
          "output_type": "execute_result",
          "data": {
            "text/plain": [
              "True"
            ]
          },
          "metadata": {},
          "execution_count": 221
        }
      ]
    },
    {
      "cell_type": "code",
      "execution_count": 222,
      "metadata": {
        "id": "NJQtp5IsBCUS"
      },
      "outputs": [],
      "source": [
        "def tokenizer(word):\n",
        "    tokens = []\n",
        "    f = []\n",
        "    i = 1\n",
        "    j = 1\n",
        "    for i in range(len(word)):\n",
        "        for j in range(len(word)):\n",
        "            wordmix = word[j:]\n",
        "            tokens.append(wordmix[:i])\n",
        "    tokens = list(set(tokens))\n",
        "\n",
        "    for t in tokens:\n",
        "      if len(t) >= 2:\n",
        "        f.append(t)\n",
        "\n",
        "    return f\n"
      ]
    },
    {
      "cell_type": "code",
      "source": [
        "def word_in_english(sub_words):\n",
        "  list_ = []\n",
        "  for x,y in enumerate(sub_words):\n",
        "    if y in words.words():\n",
        "      list_.append(y)\n",
        "  return list_"
      ],
      "metadata": {
        "id": "vKzwy_X3Rc0i"
      },
      "execution_count": 223,
      "outputs": []
    },
    {
      "cell_type": "code",
      "source": [
        "import nltk\n",
        "import pandas as pd\n",
        "nltk.download('wordnet')\n",
        "from nltk.corpus import wordnet as wn\n",
        "nltk.download('omw-1.4')"
      ],
      "metadata": {
        "colab": {
          "base_uri": "https://localhost:8080/"
        },
        "id": "24eQy3yTSPD5",
        "outputId": "9ec40e39-18be-4122-d7bc-a8be7c197acd"
      },
      "execution_count": 224,
      "outputs": [
        {
          "output_type": "stream",
          "name": "stderr",
          "text": [
            "[nltk_data] Downloading package wordnet to /root/nltk_data...\n",
            "[nltk_data]   Package wordnet is already up-to-date!\n",
            "[nltk_data] Downloading package omw-1.4 to /root/nltk_data...\n",
            "[nltk_data]   Package omw-1.4 is already up-to-date!\n"
          ]
        },
        {
          "output_type": "execute_result",
          "data": {
            "text/plain": [
              "True"
            ]
          },
          "metadata": {},
          "execution_count": 224
        }
      ]
    },
    {
      "cell_type": "code",
      "source": [
        "def remPlacement(mot,submot,newmot): \n",
        "    mot = mot.replace(submot, newmot)\n",
        "    return mot"
      ],
      "metadata": {
        "id": "8FL8hlvlSuNG"
      },
      "execution_count": 225,
      "outputs": []
    },
    {
      "cell_type": "code",
      "source": [
        "def substract(a, b):                              \n",
        "    return \"\".join(a.rsplit(b))"
      ],
      "metadata": {
        "id": "HxVLwTe6TgHM"
      },
      "execution_count": 226,
      "outputs": []
    },
    {
      "cell_type": "code",
      "source": [
        "def is_str(obj):\n",
        "  if type(obj)==str:\n",
        "    return True"
      ],
      "metadata": {
        "id": "oOQ7XLZijIE6"
      },
      "execution_count": 227,
      "outputs": []
    },
    {
      "cell_type": "code",
      "source": [
        "def get_word(df):\n",
        "  for index, row in df.iterrows():\n",
        "    syn = row['syn']\n",
        "    ant = row['ant']\n",
        "    hyper = row['hyper']\n",
        "    hypo = row['hypo']\n",
        "    if is_str(ant):\n",
        "      try: \n",
        "        return ant[0], index, 'ant'\n",
        "      except:\n",
        "        return ant, index, 'ant'\n",
        "    if is_str(hyper):\n",
        "      try: \n",
        "        return hyper[0], index, 'hyper'\n",
        "      except:\n",
        "        return hyper, index, 'hyper'\n",
        "    if is_str(syn):\n",
        "      try: \n",
        "        return syn[0], index, 'syn'\n",
        "      except:\n",
        "        return syn, index, 'syn'\n",
        "    if is_str(hypo):\n",
        "      try: \n",
        "        return hypo[0], index, 'hypo'\n",
        "      except:\n",
        "        return hypo, index, 'hypo'"
      ],
      "metadata": {
        "id": "V-x54iqoiERy"
      },
      "execution_count": 228,
      "outputs": []
    },
    {
      "cell_type": "code",
      "source": [
        "def construct_df(sub_words):\n",
        "  df = pd.DataFrame(columns=['word','syn','ant','hyper','hypo'])\n",
        "  df['word']=sub_words\n",
        "  for x, y in enumerate(sub_words):\n",
        "      for synset in wn.synsets(y):\n",
        "          ant_ = []\n",
        "          syn_= []\n",
        "          for l in synset.lemmas():\n",
        "              syn_.append(l.name())\n",
        "              if l.antonyms():\n",
        "                  ant_.append(l.antonyms()[0].name())\n",
        "      try:\n",
        "        My_sysn = wn.synsets(y)[0] \n",
        "        hyper_ = [x.lemma_names() for x in My_sysn.hypernyms()]\n",
        "        hypo_ = [str(x.lemma_names()) for x in My_sysn.hyponyms()]\n",
        "      except:\n",
        "        continue\n",
        "      syn_ = [item for item in syn_ if item != y]\n",
        "      try:\n",
        "        df.iloc[x]['hypo']=hypo_[0]\n",
        "        df.iloc[x]['hyper']=hyper_[0]\n",
        "        df.iloc[x]['syn']=syn_[0]\n",
        "        df.iloc[x]['ant']=ant_[0]\n",
        "      except IndexError:\n",
        "        continue\n",
        "  print(df)\n",
        "  return df"
      ],
      "metadata": {
        "id": "QGg2DL2gSPPN"
      },
      "execution_count": 229,
      "outputs": []
    },
    {
      "cell_type": "code",
      "source": [
        "def punalogy(semantic_link, index, cat, sub_words):\n",
        "  a  = sub_words[index]\n",
        "  d = word\n",
        "  a = df.iloc[index][cat]\n",
        "  b = remPlacement(word,c,a)\n",
        "  analogy = str(a) +' is to ' + str(b) + ' as to '+ str(c) + ' is to '+ str(d)\n",
        "  return analogy"
      ],
      "metadata": {
        "id": "2BIzmgl0q480"
      },
      "execution_count": 230,
      "outputs": []
    },
    {
      "cell_type": "code",
      "source": [
        "def get_punalogy(word):\n",
        "  sub_words = word_in_english(tokenizer(word))\n",
        "  df = construct_df(sub_words)\n",
        "  semantic_link, index, cat = get_word(df)\n",
        "  a  = sub_words[index]\n",
        "  b = word.replace(\" \", \"_\")\n",
        "  c = df.iloc[index][cat].replace(\" \", \"_\")\n",
        "  d = remPlacement(b,a,c)\n",
        "  analogy = str(a) +' is to ' + str(b).replace(\" \", \"_\") + ' as '+ str(c).replace(\" \", \"_\") + ' is to '+ str(d)\n",
        "  return analogy, df"
      ],
      "metadata": {
        "id": "4rnuKNISryx-"
      },
      "execution_count": 231,
      "outputs": []
    },
    {
      "cell_type": "code",
      "source": [
        "word = \"zebra\"\n",
        "analogy,df = get_punalogy(word)"
      ],
      "metadata": {
        "id": "0ZZy8ahKYmjZ",
        "colab": {
          "base_uri": "https://localhost:8080/"
        },
        "outputId": "ebdf639c-2305-4d8c-ed50-fc0101523410"
      },
      "execution_count": 237,
      "outputs": [
        {
          "output_type": "stream",
          "name": "stdout",
          "text": [
            "  word        syn  ant                          hyper        hypo\n",
            "0  bra  brassiere  NaN  [undergarment, unmentionable]  ['uplift']\n",
            "1   ra        NaN  NaN                            NaN         NaN\n"
          ]
        }
      ]
    },
    {
      "cell_type": "code",
      "source": [
        "print(analogy)"
      ],
      "metadata": {
        "colab": {
          "base_uri": "https://localhost:8080/",
          "height": 35
        },
        "id": "kbD-aQKs0nLy",
        "outputId": "c1b8d156-f490-4866-8c91-e1de2cd3df6b"
      },
      "execution_count": 238,
      "outputs": [
        {
          "output_type": "execute_result",
          "data": {
            "text/plain": [
              "'bra is to zebra as brassiere is to zebrassiere'"
            ],
            "application/vnd.google.colaboratory.intrinsic+json": {
              "type": "string"
            }
          },
          "metadata": {},
          "execution_count": 238
        }
      ]
    }
  ]
}