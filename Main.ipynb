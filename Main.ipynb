{
  "nbformat": 4,
  "nbformat_minor": 0,
  "metadata": {
    "colab": {
      "provenance": [],
      "collapsed_sections": [],
      "include_colab_link": true
    },
    "kernelspec": {
      "name": "python3",
      "display_name": "Python 3"
    },
    "language_info": {
      "name": "python"
    }
  },
  "cells": [
    {
      "cell_type": "markdown",
      "metadata": {
        "id": "view-in-github",
        "colab_type": "text"
      },
      "source": [
        "<a href=\"https://colab.research.google.com/github/Camille-saran/puns_analogies/blob/main/Main.ipynb\" target=\"_parent\"><img src=\"https://colab.research.google.com/assets/colab-badge.svg\" alt=\"Open In Colab\"/></a>"
      ]
    },
    {
      "cell_type": "markdown",
      "source": [
        "->Check orthographe \n",
        "->Submot avec relation champ lexical \n",
        "->Check antonyme/synonyme \n",
        "->AntiSubmot \n",
        "->Remplacement du Submot par AntiSubmot\n"
      ],
      "metadata": {
        "id": "fD-i2EquTQmu"
      }
    },
    {
      "cell_type": "code",
      "execution_count": null,
      "metadata": {
        "id": "eE0ZzFBjTC4E"
      },
      "outputs": [],
      "source": [
        "#import\n"
      ]
    },
    {
      "cell_type": "code",
      "source": [
        "def tokenizer(word):\n",
        "    tokens = []\n",
        "    f = []\n",
        "    i = 1\n",
        "    j = 1\n",
        "    for i in range(len(word)):\n",
        "        for j in range(len(word)):\n",
        "            wordmix = word[j:]\n",
        "            tokens.append(wordmix[:i])\n",
        "    tokens = list(set(tokens))\n",
        "    print(tokens)\n",
        "\n",
        "    for t in tokens:\n",
        "      if len(t) >= 2:\n",
        "        print(t)\n",
        "        f.append(t)\n",
        "\n",
        "    return f\n",
        "\n",
        "tokenizer(\"mango\")"
      ],
      "metadata": {
        "colab": {
          "base_uri": "https://localhost:8080/"
        },
        "id": "d5SH-YvmU7eA",
        "outputId": "b02f4ed1-daa3-46af-98d4-22911d4e7019"
      },
      "execution_count": null,
      "outputs": [
        {
          "output_type": "stream",
          "name": "stdout",
          "text": [
            "['', 'mang', 'man', 'ngo', 'ma', 'g', 'ang', 'o', 'go', 'ng', 'a', 'n', 'ango', 'an', 'm']\n",
            "mang\n",
            "man\n",
            "ngo\n",
            "ma\n",
            "ang\n",
            "go\n",
            "ng\n",
            "ango\n",
            "an\n"
          ]
        },
        {
          "output_type": "execute_result",
          "data": {
            "text/plain": [
              "['mang', 'man', 'ngo', 'ma', 'ang', 'go', 'ng', 'ango', 'an']"
            ]
          },
          "metadata": {},
          "execution_count": 17
        }
      ]
    },
    {
      "cell_type": "code",
      "source": [
        "to = []\n",
        "def combos(word):\n",
        "  if not word:\n",
        "    return\n",
        "  yield (word,)\n",
        "  for i in range(1, len(word)):\n",
        "    for c in combos(word[i:]):\n",
        "      yield (word[:i],) + c\n",
        "\n",
        "for c in combos('mango'):\n",
        "  #print(c)\n",
        "  if len(c)<2:\n",
        "    to.append(c)\n",
        "\n",
        "print(to)\n"
      ],
      "metadata": {
        "colab": {
          "base_uri": "https://localhost:8080/"
        },
        "id": "4sJ7oQqcWMbs",
        "outputId": "75611ca4-4d3a-42a2-e347-609fcdc98a2e"
      },
      "execution_count": null,
      "outputs": [
        {
          "output_type": "stream",
          "name": "stdout",
          "text": [
            "[('mango',)]\n"
          ]
        }
      ]
    },
    {
      "cell_type": "code",
      "source": [
        "#choix non composé complet CNCC:\n",
        "#remplacement partiel / le submot existe déja \n",
        "#ex : Dromadaire (mad)/ Babysitting (baby|sit)\n",
        "#check ortographe \n",
        "#check antonyme/synonyme \n",
        "#Remplacement \n",
        "\n"
      ],
      "metadata": {
        "id": "PYPKYcRbVKiR"
      },
      "execution_count": null,
      "outputs": []
    },
    {
      "cell_type": "code",
      "source": [
        "#choix non composé non complet CNCNC:\n",
        "#remplacement partiel/ le submot n'est pas complet \n",
        "#ex : Avocado (avocato)\n",
        "#check ortographe / composition -> ca -> cat  avec choix champ lexical (animal)\n",
        "#Remplacement  "
      ],
      "metadata": {
        "id": "5BLOk6TBadpi"
      },
      "execution_count": null,
      "outputs": []
    },
    {
      "cell_type": "code",
      "source": [
        "#choix composé non complet CCNC:\n",
        "#remplacement complet/ le submot n'est pas complet dans le mot sans synonyme/antonyme \n",
        "#ex : Love (loaf)\n",
        "#check ortographe / composition -> Lo-> Loaf  avec choix champ lexical (nourriture)\n",
        "#Remplacement "
      ],
      "metadata": {
        "id": "vxPamLGaVRAl"
      },
      "execution_count": null,
      "outputs": []
    },
    {
      "cell_type": "code",
      "source": [
        "#Functions check ortographe  :\n"
      ],
      "metadata": {
        "id": "kwsR78kqbK2W"
      },
      "execution_count": null,
      "outputs": []
    },
    {
      "cell_type": "code",
      "source": [
        "#Function check ortographe  : CNCC\n",
        "\n",
        "!pip install english-words\n",
        "from english_words import english_words_set\n",
        "import random\n",
        "# Verifier si des mots sont dans english_words ( et donc qu'ils existent) et si oui lesquels?\n",
        "\n",
        "#https://pypi.org/project/PyDictionary/\n",
        "\n",
        "import nltk \n",
        "nltk.download('words')\n",
        "from nltk.corpus import words\n",
        "word_list = words.words()\n",
        "ls = word_list\n",
        "# Ex : dromadaire\n",
        "recherchls = ['mad']\n",
        "# Définir une liste vide\n",
        "listetrouve = []\n",
        "\n",
        "if recherchls in ls:\n",
        "  # Itérer chaque élément de la liste sélectionnée\n",
        "  for index, sListe in enumerate(ls):\n",
        "    if sListe in recherchls: # Faites correspondre l'élément avec l'élément de searchList\n",
        "      listetrouve.append(ls[index]) # Stocker la valeur dans foundList si la correspondance est trouvée\n",
        "      for val in recherchls: # itérer la liste de recherche\n",
        "        if val in listetrouve:# Vérifiez que la valeur existe dans foundList ou non\n",
        "          print(\"%s est sélectionné.\\n\" %val)\n",
        "\n",
        "else:\n",
        "  print(\"%s is not found in the list\" %(recherchls))\n"
      ],
      "metadata": {
        "id": "m348eDF4YUGx",
        "colab": {
          "base_uri": "https://localhost:8080/"
        },
        "outputId": "fb74af2e-190e-4161-8eb6-1001141d9f5d"
      },
      "execution_count": null,
      "outputs": [
        {
          "output_type": "stream",
          "name": "stdout",
          "text": [
            "Looking in indexes: https://pypi.org/simple, https://us-python.pkg.dev/colab-wheels/public/simple/\n",
            "Collecting english-words\n",
            "  Downloading english-words-1.1.0.tar.gz (1.1 MB)\n",
            "\u001b[K     |████████████████████████████████| 1.1 MB 4.2 MB/s \n",
            "\u001b[?25hBuilding wheels for collected packages: english-words\n",
            "  Building wheel for english-words (setup.py) ... \u001b[?25l\u001b[?25hdone\n",
            "  Created wheel for english-words: filename=english_words-1.1.0-py3-none-any.whl size=1106680 sha256=f434c6e369d46baecc478d2509479e16b520811fe30c59297d28647545c0b6a2\n",
            "  Stored in directory: /root/.cache/pip/wheels/25/3d/4c/12a119ce90b46b4f90f9ddf41d719ecabb40faec6103379fc8\n",
            "Successfully built english-words\n",
            "Installing collected packages: english-words\n",
            "Successfully installed english-words-1.1.0\n"
          ]
        },
        {
          "output_type": "stream",
          "name": "stderr",
          "text": [
            "[nltk_data] Downloading package words to /root/nltk_data...\n"
          ]
        },
        {
          "output_type": "stream",
          "name": "stdout",
          "text": [
            "['mad'] is not found in the list\n"
          ]
        },
        {
          "output_type": "stream",
          "name": "stderr",
          "text": [
            "[nltk_data]   Unzipping corpora/words.zip.\n"
          ]
        }
      ]
    },
    {
      "cell_type": "code",
      "source": [
        "#Function check ortographe  : CNCNC"
      ],
      "metadata": {
        "id": "_YP6LAP6QiK2"
      },
      "execution_count": null,
      "outputs": []
    },
    {
      "cell_type": "code",
      "source": [
        "#Function check antonyme/synonyme :\n"
      ],
      "metadata": {
        "id": "-KhNutDbVZty"
      },
      "execution_count": null,
      "outputs": []
    },
    {
      "cell_type": "code",
      "source": [
        "import nltk \n",
        "#\n",
        "nltk.download('wordnet')\n",
        "nltk.download('omw-1.4')\n",
        "from nltk.corpus import wordnet\n",
        "\n",
        "synonyms = []\n",
        "antonyms = []\n",
        "\n",
        "#fonction qui renvoie les synonymes de \"Soil\"\n",
        "def synonyme(syn): \n",
        "  for syn in wordnet.synsets(\"soil\"):\n",
        "    for lm in syn.lemmas():\n",
        "             synonyms.append(lm.name())\n",
        "             \n",
        "  return set(synonyms)\n",
        "#  return synonyms\n",
        "\n",
        "#fonction qui renvoie les antonymes de \"Soil\"\n",
        "def antonyme(anto):\n",
        "  for syn in wordnet.synsets(\"soil\"):\n",
        "    for lm in syn.lemmas():\n",
        "        if lm.antonyms():\n",
        "            antonyms.append(lm.antonyms()[0].name())\n",
        "\n",
        "#  return set(antonyms)\n",
        "  return antonyms\n",
        "\n",
        "print(antonyme(antonyms))\n",
        "print(synonyme(synonyms))"
      ],
      "metadata": {
        "colab": {
          "base_uri": "https://localhost:8080/"
        },
        "id": "4tJ4YaWIw3Ac",
        "outputId": "f2856725-bd65-4a65-ddc7-ea4dd3d44c6f"
      },
      "execution_count": null,
      "outputs": [
        {
          "output_type": "stream",
          "name": "stdout",
          "text": [
            "['clean']\n",
            "{'dirty', 'ground', 'bemire', 'soil', 'grease', 'land', 'colly', 'filth', 'dirt', 'grime', 'territory', 'grunge', 'begrime', 'stain'}\n"
          ]
        },
        {
          "output_type": "stream",
          "name": "stderr",
          "text": [
            "[nltk_data] Downloading package wordnet to /root/nltk_data...\n",
            "[nltk_data]   Package wordnet is already up-to-date!\n",
            "[nltk_data] Downloading package omw-1.4 to /root/nltk_data...\n",
            "[nltk_data]   Package omw-1.4 is already up-to-date!\n"
          ]
        }
      ]
    },
    {
      "cell_type": "markdown",
      "source": [],
      "metadata": {
        "id": "7vDKHmADVBzt"
      }
    },
    {
      "cell_type": "code",
      "source": [
        "#Function Remplacement : "
      ],
      "metadata": {
        "id": "cNDml92nNzPW"
      },
      "execution_count": null,
      "outputs": []
    },
    {
      "cell_type": "code",
      "source": [
        "#https://www.delftstack.com/fr/howto/python/replace-characters-in-strings-python/\n",
        "#https://www.delftstack.com/fr/howto/python/python-replace-multiple-characters/\n",
        "def remPlacement(mot,submot,newmot): \n",
        "    mot = mot.replace(submot, newmot)\n",
        "    return mot\n",
        "\n",
        "remPlacement(\"avocado\",\"cad\",\"cat\")\n",
        "remPlacement(\"woman\",\"man\",\"mango\")\n",
        "\n",
        "c  = \"man\"\n",
        "d = \"mango\"\n",
        "a = \"woman\"\n",
        "b = remPlacement(a,c,d)\n",
        "print(a,'is to', b, 'as to', c, 'is to', d)"
      ],
      "metadata": {
        "id": "dETcctTtYm-A",
        "colab": {
          "base_uri": "https://localhost:8080/"
        },
        "outputId": "8d0ba153-c358-4c2a-ac7c-a7ba13fb0c65"
      },
      "execution_count": null,
      "outputs": [
        {
          "output_type": "stream",
          "name": "stdout",
          "text": [
            "woman is to womango as to man is to mango\n"
          ]
        }
      ]
    }
  ]
}